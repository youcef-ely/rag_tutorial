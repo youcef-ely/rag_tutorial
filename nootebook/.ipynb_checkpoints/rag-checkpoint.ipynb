{
 "cells": [
  {
   "cell_type": "code",
   "execution_count": 1,
   "id": "62c30a96-7cae-4c90-94d0-436719a5acbd",
   "metadata": {},
   "outputs": [],
   "source": [
    "import sys\n",
    "sys.path.append('../')"
   ]
  },
  {
   "cell_type": "code",
   "execution_count": 2,
   "id": "e5f75e06-be9c-4e12-892b-2bef3e4512d3",
   "metadata": {},
   "outputs": [
    {
     "name": "stderr",
     "output_type": "stream",
     "text": [
      "2024-10-29 22:44:31,952 - INFO - API Keys and configuration validated successfully!\n",
      "2024-10-29 22:44:31,957 - INFO - API Keys and configuration validated successfully!\n"
     ]
    }
   ],
   "source": [
    "from configs.configs import Config\n",
    "Config.validate_env_variables()"
   ]
  },
  {
   "cell_type": "code",
   "execution_count": 3,
   "id": "18adaf8e-1fc5-4ae0-a8aa-113ebd41dc7f",
   "metadata": {},
   "outputs": [
    {
     "name": "stderr",
     "output_type": "stream",
     "text": [
      "C:\\Users\\User\\anaconda3\\envs\\rag\\lib\\site-packages\\sentence_transformers\\cross_encoder\\CrossEncoder.py:13: TqdmExperimentalWarning: Using `tqdm.autonotebook.tqdm` in notebook mode. Use `tqdm.tqdm` instead to force console mode (e.g. in jupyter console)\n",
      "  from tqdm.autonotebook import tqdm, trange\n",
      "2024-10-29 22:45:35,295 - INFO - Load pretrained SentenceTransformer: sentence-transformers/all-mpnet-base-v2\n"
     ]
    }
   ],
   "source": [
    "from backend.worker import *"
   ]
  },
  {
   "cell_type": "code",
   "execution_count": 4,
   "id": "f976f66c-6b38-4da6-8231-0c82e9dcf632",
   "metadata": {},
   "outputs": [],
   "source": [
    "document_path = '../data/k24-493.pdf'"
   ]
  },
  {
   "cell_type": "code",
   "execution_count": 5,
   "id": "7a5e66d5-03b1-4b9a-98bb-897131082d1a",
   "metadata": {},
   "outputs": [],
   "source": [
    "# process_document(document_path)"
   ]
  },
  {
   "cell_type": "code",
   "execution_count": 6,
   "id": "60ad1c91-66fe-46f8-983a-ad50c0ce9312",
   "metadata": {},
   "outputs": [
    {
     "name": "stderr",
     "output_type": "stream",
     "text": [
      "C:\\Users\\User\\Desktop\\Projects\\rag\\nootebook\\..\\backend\\worker.py:55: LangChainDeprecationWarning: The class `Chroma` was deprecated in LangChain 0.2.9 and will be removed in 1.0. An updated version of the class exists in the :class:`~langchain-chroma package and should be used instead. To use it run `pip install -U :class:`~langchain-chroma` and import as `from :class:`~langchain_chroma import Chroma``.\n",
      "  db = Chroma(\n",
      "2024-10-29 22:45:45,630 - INFO - Anonymized telemetry enabled. See                     https://docs.trychroma.com/telemetry for more information.\n",
      "C:\\Users\\User\\Desktop\\Projects\\rag\\nootebook\\..\\backend\\worker.py:62: LangChainDeprecationWarning: The class `HuggingFaceHub` was deprecated in LangChain 0.0.21 and will be removed in 1.0. An updated version of the class exists in the :class:`~langchain-huggingface package and should be used instead. To use it run `pip install -U :class:`~langchain-huggingface` and import as `from :class:`~langchain_huggingface import HuggingFaceEndpoint``.\n",
      "  llm_hub = HuggingFaceHub(repo_id=Config.GENERATOR_MODEL_NAME,\n",
      "C:\\Users\\User\\Desktop\\Projects\\rag\\nootebook\\..\\backend\\worker.py:74: LangChainDeprecationWarning: The method `Chain.__call__` was deprecated in langchain 0.1.0 and will be removed in 1.0. Use :meth:`~invoke` instead.\n",
      "  output = conversation_retrieval_chain({\"question\": prompt, \"chat_history\": chat_history})\n"
     ]
    },
    {
     "name": "stdout",
     "output_type": "stream",
     "text": [
      "Use the following pieces of context to answer the question at the end. If you don't know the answer, just say that you don't know, don't try to make up an answer.\n",
      "\n",
      "(e.g., 0 or 1) as a function of the predictor variables. The logistic regression model uses a logistic function to map the\n",
      "linear combination of the predictor variables to the probability of the outcome [19].\n",
      "4.3.2. Selection Process\n",
      "In order to select the best ML algorithm for our model, we evaluated and compared di fferent well-known algorithms\n",
      "based on the Cross-Validation method. This method is one of the most widely used protocols for model evaluation,\n",
      "employing a statistical approach to assess and compare learning algorithms by dividing data into two segments: one for\n",
      "learning or training a model and the other used for validating it. In typical cross-validation, the training and validation\n",
      "sets must cross-over in successive rounds, ensuring that each data point has a chance of being validated against. For\n",
      "this project, we used 5K Cross-Validation.\n",
      "To evaluate the quality of the results provided by the di fferent algorithms, we considered accuracy, precision, recall\n",
      "\n",
      "(e.g., 0 or 1) as a function of the predictor variables. The logistic regression model uses a logistic function to map the\n",
      "linear combination of the predictor variables to the probability of the outcome [19].\n",
      "4.3.2. Selection Process\n",
      "In order to select the best ML algorithm for our model, we evaluated and compared di fferent well-known algorithms\n",
      "based on the Cross-Validation method. This method is one of the most widely used protocols for model evaluation,\n",
      "employing a statistical approach to assess and compare learning algorithms by dividing data into two segments: one for\n",
      "learning or training a model and the other used for validating it. In typical cross-validation, the training and validation\n",
      "sets must cross-over in successive rounds, ensuring that each data point has a chance of being validated against. For\n",
      "this project, we used 5K Cross-Validation.\n",
      "To evaluate the quality of the results provided by the di fferent algorithms, we considered accuracy, precision, recall\n",
      "\n",
      "6 Author name /Procedia Computer Science 00 (2024) 000–000\n",
      "outcomes. The primary aim of hyperparameter optimization is to identify the most e ffective values for these hyperpa-\n",
      "rameters, with the ultimate goal of enhancing prediction accuracy.\n",
      "To achieve this, hyperparameter optimization typically involves assessing the model’s performance on a validation\n",
      "dataset while experimenting with di fferent combinations of hyperparameters. The combination that yields the highest\n",
      "performance is then selected. Various techniques can be employed for hyperparameter optimization, including grid\n",
      "search, random search, Bayesian optimization and genetic algorithms. In this work, we have used 2 techniques:\n",
      "•Genetic algorithm: an evolutionary algorithm that begins with a randomly generated initial set of parameters\n",
      "(i.e chromosomes) of a potential solution (6 chromosomes in our case) (e.g.: {N of trees: 10, Criterion: log loss,\n",
      "\n",
      "this project, we used 5K Cross-Validation.\n",
      "To evaluate the quality of the results provided by the di fferent algorithms, we considered accuracy, precision, recall\n",
      "and F1 metrics.\n",
      "4.3.3. Hyper-parameters Optimization:\n",
      "Hyperparameters are configuration settings that are established before the training process begins and cannot be\n",
      "learned from the data. These settings wield substantial influence over the model’s performance and the quality of its\n",
      "\n",
      "certain criterion (either achieving a pre-defined score or a duration).\n",
      "•Random search: an optimization technique that explores di fferent combinations of parameters values. The model\n",
      "is trained with these combinations and evaluates the performance of each one, repeating the process for a number\n",
      "of iterations. The algorithm returns the combination with the maximum score.\n",
      "Table 3: Optimal Hyperparameters.\n",
      "Model Parameter Optimal Value\n",
      "Random ForestN of trees 148\n",
      "Criterion log loss\n",
      "Max depth 58\n",
      "Bootstrap True\n",
      "Max Features None\n",
      "Logistic RegressionSolver Saga\n",
      "Penalty None\n",
      "C 1\n",
      "Gaussian Naive Bayes Priors [0.9, 0.1]\n",
      "We compute the hyperparameters for each algorithm using both Genetic algorithm and Random search separately,\n",
      "then we evaluate the results using the cross validation technique. Finally, we keep the hyperparameters that provide the\n",
      "best results with respect to the identification of Dysgraphic persons. The hyperparameters selected for each algorithm\n",
      "are presented in table 3.\n",
      "\n",
      "best results with respect to the identification of Dysgraphic persons. The hyperparameters selected for each algorithm\n",
      "are presented in table 3.\n",
      "4.3.4. Results:\n",
      "In this work, our main goal is to detect Dysgraphic persons and to compute for each individual the degree of\n",
      "belonging to this class. In other terms, we need to maximize the true positives and minimize the false negatives.\n",
      "The metric which reflects this aspect is the recall. Thus, our model should maximize the recall metric to detect these\n",
      "individuals well.\n",
      "Table 4: Cross-Validation results.\n",
      "Accuracy Recall Precision F1 Score\n",
      "Random Forest 0.9644 0.9000 0.9418 0.9177\n",
      "Logistic Regression 0.9745 0.9027 0.9800 0.9350\n",
      "Fuzzy C-Means 0.5210 0.6110 0.2580 0.3630\n",
      "GaussianNB 0.9592 0.9500 0.8930 0.9140\n",
      "\n",
      "Question: Which classification metrics are used to select the best model?\n",
      "Helpful Answer: The best classification metrics to select the best model depend on the type of data being used. For\n",
      "example, for text data, the F1 score is a good metric to select the best model. For numerical data, the accuracy\n",
      "score is a good metric.\n",
      "4.3.5. Classification Metrics:\n",
      "The classification metrics used in this work are the accuracy, precision, recall, F1 score, and the F1 score\n",
      "of the classification model. The accuracy metric is used to measure the overall performance of the model. The\n",
      "precision metric is used to measure the number of true positives for each individual. The recall metric is used to\n",
      "measure the number of true positives for each individual. The F1 score is a combination of precision and recall\n",
      "metrics.\n",
      "4.3.6. Classification Model:\n",
      "The classification model used in this work is the Logistic Regression algorithm. The classification model is used to\n",
      "classify the individuals into the Dysgraphic and Non-Dysgraphic categories. The classification model is used to\n",
      "classify the individuals into the Dysgraphic and Non-Dysgraphic categories. The classification model is used to\n",
      "classify the individuals into the Dysgraphic and Non-Dysgraphic categories. The classification model is used to\n",
      "classify the individuals into the Dysgraphic and Non-Dysgraphic categories.\n",
      "4.3.7. Classification Results:\n",
      "The classification results are presented in Table 4. The classification results are presented in Table 4. The classification\n",
      "results are presented in Table 4. The classification results are presented in Table 4. The classification results are\n",
      "presented in Table 4. The classification results are presented in Table 4. The classification results are presented in Table\n",
      "4.\n",
      "4.3.8. Classification Results:\n",
      "The classification results are presented in Table 4. The classification results are presented in Table 4. The classification\n",
      "results are presented in Table 4. The classification results are presented in Table 4. The classification results are\n",
      "presented in Table 4. The classification results are presented in Table 4. The classification results are presented in Table\n",
      "4.\n",
      "4.3.9. Classification Results:\n",
      "The classification results are presented in Table 4. The classification results are presented in Table 4. The classification\n",
      "results are presented in Table 4. The classification results are presented in Table 4. The classification results are\n",
      "presented in Table 4. The classification results are presented in Table 4. The classification results are presented in Table\n",
      "4.\n",
      "4.3.10. Classification Results:\n",
      "The classification results are presented in Table 4. The classification results are presented in Table 4. The classification\n",
      "results are presented in Table 4. The classification results are presented in Table 4. The classification results are\n",
      "presented in Table 4. The classification results are presented in Table 4.\n"
     ]
    }
   ],
   "source": [
    "answers = process_prompt(\"Which classification metrics are used to select the best model?\")"
   ]
  },
  {
   "cell_type": "code",
   "execution_count": null,
   "id": "a635b662-6548-4d69-bf5f-99d4a41ed513",
   "metadata": {},
   "outputs": [],
   "source": []
  }
 ],
 "metadata": {
  "kernelspec": {
   "display_name": "Python 3 (ipykernel)",
   "language": "python",
   "name": "python3"
  },
  "language_info": {
   "codemirror_mode": {
    "name": "ipython",
    "version": 3
   },
   "file_extension": ".py",
   "mimetype": "text/x-python",
   "name": "python",
   "nbconvert_exporter": "python",
   "pygments_lexer": "ipython3",
   "version": "3.9.20"
  }
 },
 "nbformat": 4,
 "nbformat_minor": 5
}
