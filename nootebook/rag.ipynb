{
 "cells": [
  {
   "cell_type": "code",
   "execution_count": 1,
   "id": "62c30a96-7cae-4c90-94d0-436719a5acbd",
   "metadata": {},
   "outputs": [],
   "source": [
    "import sys\n",
    "sys.path.append('../')"
   ]
  },
  {
   "cell_type": "code",
   "execution_count": 2,
   "id": "e5f75e06-be9c-4e12-892b-2bef3e4512d3",
   "metadata": {},
   "outputs": [
    {
     "name": "stderr",
     "output_type": "stream",
     "text": [
      "2024-10-29 23:01:01,469 - INFO - API Keys and configuration validated successfully!\n",
      "2024-10-29 23:01:01,471 - INFO - API Keys and configuration validated successfully!\n"
     ]
    }
   ],
   "source": [
    "from configs.configs import Config\n",
    "Config.validate_env_variables()"
   ]
  },
  {
   "cell_type": "code",
   "execution_count": 3,
   "id": "18adaf8e-1fc5-4ae0-a8aa-113ebd41dc7f",
   "metadata": {},
   "outputs": [
    {
     "name": "stderr",
     "output_type": "stream",
     "text": [
      "C:\\Users\\User\\anaconda3\\envs\\rag\\lib\\site-packages\\sentence_transformers\\cross_encoder\\CrossEncoder.py:13: TqdmExperimentalWarning: Using `tqdm.autonotebook.tqdm` in notebook mode. Use `tqdm.tqdm` instead to force console mode (e.g. in jupyter console)\n",
      "  from tqdm.autonotebook import tqdm, trange\n",
      "2024-10-29 23:01:09,800 - INFO - Load pretrained SentenceTransformer: sentence-transformers/all-mpnet-base-v2\n"
     ]
    }
   ],
   "source": [
    "from backend.worker import *"
   ]
  },
  {
   "cell_type": "code",
   "execution_count": 10,
   "id": "6d04b822-45e0-4954-acda-bd549f620561",
   "metadata": {},
   "outputs": [],
   "source": [
    "from IPython.display import display, Markdown"
   ]
  },
  {
   "cell_type": "code",
   "execution_count": 4,
   "id": "f976f66c-6b38-4da6-8231-0c82e9dcf632",
   "metadata": {},
   "outputs": [],
   "source": [
    "document_path = '../data/k24-493.pdf'"
   ]
  },
  {
   "cell_type": "code",
   "execution_count": 5,
   "id": "7a5e66d5-03b1-4b9a-98bb-897131082d1a",
   "metadata": {},
   "outputs": [],
   "source": [
    "# process_document(document_path)"
   ]
  },
  {
   "cell_type": "code",
   "execution_count": 9,
   "id": "60ad1c91-66fe-46f8-983a-ad50c0ce9312",
   "metadata": {},
   "outputs": [
    {
     "name": "stderr",
     "output_type": "stream",
     "text": [
      "2024-10-29 23:04:18,919 - WARNING - WARNING! max_length is not default parameter.\n",
      "                    max_length was transferred to model_kwargs.\n",
      "                    Please make sure that max_length is what you intended.\n"
     ]
    }
   ],
   "source": [
    "prompt = \"Which classification metrics are used to select the best model?\"\n",
    "answers = process_prompt(prompt)"
   ]
  },
  {
   "cell_type": "code",
   "execution_count": 13,
   "id": "814d0cab-e78d-437d-92fc-6507113219e7",
   "metadata": {},
   "outputs": [
    {
     "data": {
      "text/markdown": [
       "**<font color='red'>Question:</font>**Which classification metrics are used to select the best model?\n",
       "\n",
       "\n",
       "                        **<font color='green'>Answer:</font>**\n",
       "There are several classification metrics that are commonly used to select the best model, such as accuracy, precision, recall, F1 score, and ROC AUC score. These metrics are used to evaluate the performance of a model and determine which one is the most accurate and reliable.\n",
       "\n"
      ],
      "text/plain": [
       "<IPython.core.display.Markdown object>"
      ]
     },
     "metadata": {},
     "output_type": "display_data"
    }
   ],
   "source": [
    "markdown_answer = f\"\"\"**<font color='red'>Question: </font>**{prompt}\\n\\n\n",
    "                        **<font color='green'>Answer: </font>**{answers}\\n\\n\"\"\"\n",
    "display(Markdown(markdown_answer))"
   ]
  },
  {
   "cell_type": "code",
   "execution_count": null,
   "id": "247fc71b-e653-426c-9252-922f7a4e80bf",
   "metadata": {},
   "outputs": [],
   "source": []
  }
 ],
 "metadata": {
  "kernelspec": {
   "display_name": "Python 3 (ipykernel)",
   "language": "python",
   "name": "python3"
  },
  "language_info": {
   "codemirror_mode": {
    "name": "ipython",
    "version": 3
   },
   "file_extension": ".py",
   "mimetype": "text/x-python",
   "name": "python",
   "nbconvert_exporter": "python",
   "pygments_lexer": "ipython3",
   "version": "3.9.20"
  }
 },
 "nbformat": 4,
 "nbformat_minor": 5
}
